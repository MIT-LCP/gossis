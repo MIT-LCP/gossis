{
 "cells": [
  {
   "cell_type": "markdown",
   "metadata": {
    "deletable": true,
    "editable": true
   },
   "source": [
    "Get the first laboratory measurements for patients admitted to the ICU. Plot the distribution of measurements for survival and non-survival groups."
   ]
  },
  {
   "cell_type": "code",
   "execution_count": null,
   "metadata": {
    "collapsed": false,
    "deletable": true,
    "editable": true
   },
   "outputs": [],
   "source": [
    "# Import libraries\n",
    "from __future__ import print_function\n",
    "\n",
    "import numpy as np\n",
    "import pandas as pd\n",
    "import matplotlib.pyplot as plt\n",
    "import matplotlib\n",
    "import yaml\n",
    "import os\n",
    "from scipy.signal import medfilt\n",
    "import tableone\n",
    "\n",
    "# used to print out pretty pandas dataframes\n",
    "from IPython.display import display, HTML\n",
    "\n",
    "%matplotlib inline\n",
    "plt.style.use('ggplot')\n",
    "\n",
    "font = {'family' : 'DejaVu Sans',\n",
    "        'size'   : 20}\n",
    "\n",
    "matplotlib.rc('font', **font)"
   ]
  },
  {
   "cell_type": "markdown",
   "metadata": {
    "deletable": true,
    "editable": true
   },
   "source": [
    "## Functions"
   ]
  },
  {
   "cell_type": "markdown",
   "metadata": {
    "deletable": true,
    "editable": true
   },
   "source": [
    "# Load in merged GOSSIS data"
   ]
  },
  {
   "cell_type": "code",
   "execution_count": null,
   "metadata": {
    "collapsed": false,
    "deletable": true,
    "editable": true
   },
   "outputs": [],
   "source": [
    "df = pd.read_csv('gossis-data.csv.gz', header=0, sep=\",\", compression='gzip')\n",
    "df['data_source'].value_counts()"
   ]
  },
  {
   "cell_type": "markdown",
   "metadata": {
    "deletable": true,
    "editable": true
   },
   "source": [
    "# Load in the header and the data type for each column"
   ]
  },
  {
   "cell_type": "code",
   "execution_count": null,
   "metadata": {
    "collapsed": false,
    "deletable": true,
    "editable": true
   },
   "outputs": [],
   "source": [
    "hdr = pd.read_csv('hdr/header.csv',header=None,sep=',')[0].values\n",
    "\n",
    "# load yaml definitions\n",
    "with open(\"hdr/variable-definitions.yaml\", 'r') as stream:\n",
    "    try:\n",
    "        varlist = yaml.load(stream)\n",
    "    except yaml.YAMLError as exc:\n",
    "        print(exc)\n",
    "\n",
    "# convert to dataframe\n",
    "df_var = pd.DataFrame.from_dict(varlist, orient='index')\n",
    "df_var['varname'] = df_var.index\n",
    "\n",
    "# specify the order of the categories - data is output in this order\n",
    "category_order = {'identifier': 1,\n",
    "                  'demographic': 2,\n",
    "                  'APACHE covariate': 3,\n",
    "                  'vitals': 4,\n",
    "                  'labs': 5,\n",
    "                  'labs blood gas': 6,\n",
    "                  'APACHE prediction': 10}\n",
    "df_var['category_order'] = df_var['category'].map(category_order)\n",
    "\n",
    "# sort df by the category, then by the variable name\n",
    "df_var.sort_values(['category_order','varname'],inplace=True)"
   ]
  },
  {
   "cell_type": "code",
   "execution_count": null,
   "metadata": {
    "collapsed": false,
    "deletable": true,
    "editable": true
   },
   "outputs": [],
   "source": [
    "df_var['category'].value_counts()"
   ]
  },
  {
   "cell_type": "code",
   "execution_count": null,
   "metadata": {
    "collapsed": false,
    "deletable": true,
    "editable": true,
    "scrolled": true
   },
   "outputs": [],
   "source": [
    "df_var['dataType'].value_counts()"
   ]
  },
  {
   "cell_type": "markdown",
   "metadata": {
    "deletable": true,
    "editable": true
   },
   "source": [
    "# Data Processing"
   ]
  },
  {
   "cell_type": "code",
   "execution_count": null,
   "metadata": {
    "collapsed": false,
    "deletable": true,
    "editable": true
   },
   "outputs": [],
   "source": [
    "print(df[df['age']>150]['data_source'].value_counts())\n",
    "df.loc[(df['age']>150)&(df['data_source']=='mimic'),'age']=91.4\n",
    "print(df[df['age']>100]['data_source'].value_counts())"
   ]
  },
  {
   "cell_type": "code",
   "execution_count": null,
   "metadata": {
    "collapsed": false
   },
   "outputs": [],
   "source": [
    "pd.crosstab(df['icu_admit_source'],df['data_source']).reset_index()"
   ]
  },
  {
   "cell_type": "markdown",
   "metadata": {
    "deletable": true,
    "editable": true
   },
   "source": [
    "# Comparisons\n",
    "\n",
    "For comparisons, we are interested assessing each variable across the databases.\n",
    "\n",
    "For numeric/integer variables:\n",
    "\n",
    "* Compare the mean, median, standard deviation, 5th and 95th percentiles\n",
    "* Plot the distribution using histograms\n",
    "\n",
    "For string/binary (categorical) variables:\n",
    "\n",
    "* Compare the categories to see if they overlap\n",
    "* Compare the frequency of each category (cross-tab)"
   ]
  },
  {
   "cell_type": "markdown",
   "metadata": {
    "deletable": true,
    "editable": true
   },
   "source": [
    "## Compare APACHE-III score in eicu and anzics patients"
   ]
  },
  {
   "cell_type": "code",
   "execution_count": null,
   "metadata": {
    "collapsed": false,
    "deletable": true,
    "editable": true
   },
   "outputs": [],
   "source": [
    "bins = np.linspace(0, 200, 101)\n",
    "plt.figure(figsize=[16,10])\n",
    "#plt.hist(df_all.loc[df_all['db']=='mimic','apsiii'].values, bins,\n",
    "#         normed=True, alpha=0.5, label='mimic')\n",
    "plt.hist(df.loc[df['data_source']=='eicu','apache_3j_score'].dropna().values, bins,\n",
    "         normed=True, alpha=0.5, label='eicu', color = 'blue')\n",
    "plt.hist(df.loc[df['data_source']=='anzics','apache_3j_score'].dropna().values, bins,\n",
    "         normed=True, alpha=0.5, label='anzics', color= 'black')\n",
    "plt.legend(loc='upper right')\n",
    "plt.xlabel('APACHE III-j score')\n",
    "plt.ylabel('Proportion of patients')\n",
    "plt.show()"
   ]
  },
  {
   "cell_type": "markdown",
   "metadata": {
    "deletable": true,
    "editable": true
   },
   "source": [
    "As we can see the distributions are very similar, though ANZICS seems to have lower acuity."
   ]
  },
  {
   "cell_type": "code",
   "execution_count": null,
   "metadata": {
    "collapsed": false,
    "deletable": true,
    "editable": true
   },
   "outputs": [],
   "source": [
    "bins = np.linspace(0, 200, 101)\n",
    "plt.figure(figsize=[16,10])\n",
    "plt.rcParams.update({'font.size': 20})\n",
    "plt.hist(df.loc[df['data_source']=='eicu','apache_3j_score'].dropna().values, bins,\n",
    "         normed=True, alpha=0.5, label='eicu')\n",
    "plt.hist(df.loc[df['data_source']=='anzics','apache_3j_score'].dropna().values, bins,\n",
    "         normed=True, alpha=0.5, label='anzics')\n",
    "plt.hist(df.loc[df['data_source']=='mimic','apache_3j_score'].dropna().values, bins,\n",
    "         normed=True, alpha=0.5, label='mimic')\n",
    "plt.legend(loc='upper right')\n",
    "plt.show()"
   ]
  },
  {
   "cell_type": "markdown",
   "metadata": {
    "deletable": true,
    "editable": true
   },
   "source": [
    "Note that we don't have any data for MIMIC for the APACHE-III score."
   ]
  },
  {
   "cell_type": "code",
   "execution_count": null,
   "metadata": {
    "collapsed": true
   },
   "outputs": [],
   "source": [
    "idxE = df['data_source']=='eicu'"
   ]
  },
  {
   "cell_type": "code",
   "execution_count": null,
   "metadata": {
    "collapsed": true
   },
   "outputs": [],
   "source": []
  },
  {
   "cell_type": "code",
   "execution_count": null,
   "metadata": {
    "collapsed": false
   },
   "outputs": [],
   "source": [
    "pd.crosstab(df['hospital_admit_source'],df['data_source'])"
   ]
  },
  {
   "cell_type": "markdown",
   "metadata": {
    "collapsed": false,
    "deletable": true,
    "editable": true
   },
   "source": [
    "# Summarize dataset"
   ]
  },
  {
   "cell_type": "code",
   "execution_count": null,
   "metadata": {
    "collapsed": true
   },
   "outputs": [],
   "source": [
    "categorical=['country', 'elective_surgery', 'ethnicity', 'gender', 'hospital_death', 'icu_death', 'pregnant', 'smoking_status', 'teaching_hospital', 'arf_apache', 'gcs_eyes_apache', 'gcs_motor_apache', 'gcs_unable_apache', 'gcs_verbal_apache', 'intubated_apache', 'ventilated_apache']\n",
    "t1 = tableone.TableOne(df, columns=categorical, categorical=categorical, groupby='data_source')\n",
    "t1"
   ]
  },
  {
   "cell_type": "markdown",
   "metadata": {},
   "source": [
    "## Cross-tabulate all categorical data"
   ]
  },
  {
   "cell_type": "code",
   "execution_count": null,
   "metadata": {
    "collapsed": true
   },
   "outputs": [],
   "source": [
    "fac_list = df_var.loc[(df_var['dataType']!='numeric')&(df_var['category']!='identifier'),'varname']\n",
    "for a in fac_list:\n",
    "    if a in ['hospital_death','bmi','apache_3j_score','icu_id', 'hospital_bed_size_numeric', 'icu_admit_type', 'apsiii']:\n",
    "        continue\n",
    "    tbl = pd.crosstab(df[a], df['data_source'], margins = True)\n",
    "    #display(HTML(tbl.to_html().replace('NaN', '')))\n",
    "    #get percentage table\n",
    "    tbl_perc = tbl/tbl.xs('All', axis=0)\n",
    "    display(HTML(tbl_perc.to_html().replace('NaN', '')))"
   ]
  },
  {
   "cell_type": "markdown",
   "metadata": {
    "deletable": true,
    "editable": true
   },
   "source": [
    "# Completion table"
   ]
  },
  {
   "cell_type": "code",
   "execution_count": null,
   "metadata": {
    "collapsed": false,
    "scrolled": false
   },
   "outputs": [],
   "source": [
    "index = list(df_var['category'].astype('category').cat.categories)\n",
    "category_gp=df_var.groupby('category')\n",
    "header=['anzics','eicu','mimic','nicst','satiq']\n",
    "\n",
    "for i in index:\n",
    "    try:\n",
    "        display(HTML('<h2>'+i+'</h2>'))\n",
    "        comp_dict={}\n",
    "        for column in df_var.loc[df_var['category']==i,'varname']:\n",
    "                if column in ['data_source','hospital_bed_size_numeric','icu_admit_type']:\n",
    "                    continue\n",
    "                comp_dict[column] = list()\n",
    "\n",
    "                for dataname in header:\n",
    "                    N = np.sum(df['data_source']==dataname)\n",
    "                    N_COUNT = df.loc[df['data_source']==dataname,column].count()\n",
    "                    if N>0:\n",
    "                        comp_dict[column].append( N_COUNT*100.0/N )     \n",
    "        tb = pd.DataFrame(comp_dict, index=header)\n",
    "        tb = tb.replace(to_replace=float(0), value='')\n",
    "        tb=tb.transpose()\n",
    "        display(HTML(tb.to_html()))\n",
    "    except:\n",
    "        continue\n",
    "           "
   ]
  },
  {
   "cell_type": "code",
   "execution_count": null,
   "metadata": {
    "collapsed": false,
    "scrolled": false
   },
   "outputs": [],
   "source": [
    "index = list(df_var['category'].astype('category').cat.categories)\n",
    "category_gp=df_var.groupby('category')\n",
    "header=['anzics','eicu','mimic','nicst','satiq']\n",
    "\n",
    "for i in index:\n",
    "    try:\n",
    "        display(HTML('<h2>'+i+'</h2>'))\n",
    "        comp_dict={}\n",
    "        for column in df_var.loc[df_var['category']==i,'varname']:\n",
    "                if column in ['data_source','hospital_bed_size_numeric','icu_admit_type']:\n",
    "                    continue\n",
    "                comp_dict[column] = list()\n",
    "\n",
    "                for dataname in header:\n",
    "                    N = np.sum(df['data_source']==dataname)\n",
    "                    N_COUNT = df.loc[df['data_source']==dataname,column].count()\n",
    "                    if N>0:\n",
    "                        comp_dict[column].append( N_COUNT*100.0/N )\n",
    "        tb = pd.DataFrame(comp_dict, index=header)\n",
    "        tb = tb.replace(to_replace=float(0), value='')\n",
    "        tb=tb.transpose()\n",
    "        # only display data if it is present in anzics\n",
    "        tb = tb.loc[ tb['anzics']!='', : ]\n",
    "        display(HTML(tb.to_html()))\n",
    "    except:\n",
    "        continue\n",
    "           "
   ]
  },
  {
   "cell_type": "code",
   "execution_count": null,
   "metadata": {
    "collapsed": false
   },
   "outputs": [],
   "source": [
    "df['hospital_type'].value_counts()"
   ]
  },
  {
   "cell_type": "code",
   "execution_count": null,
   "metadata": {
    "collapsed": false,
    "deletable": true,
    "editable": true,
    "scrolled": false
   },
   "outputs": [],
   "source": [
    "index = list(df_var['category'].astype('category').cat.categories)\n",
    "category_gp=df_var.groupby('category')\n",
    "header=['anzics','eicu','mimic','orchestra']\n",
    "\n",
    "for i in index:\n",
    "    display(HTML('<h2>'+i+'</h2>'))\n",
    "    comp_dict={}\n",
    "    for column in df_var.loc[df_var['category']==i,'varname']:\n",
    "        if column in ['data_source','hospital_bed_size_numeric','icu_admit_type']:\n",
    "            continue\n",
    "        comp_dict[column] = list()\n",
    "            \n",
    "        for dataname in header:\n",
    "            N = np.sum(df['data_source']==dataname)\n",
    "            N_COUNT = df.loc[df['data_source']==dataname,column].count()\n",
    "            if N>0:\n",
    "                comp_dict[column].append( N_COUNT*100.0/N )\n",
    "                \n",
    "    tb = pd.DataFrame(comp_dict, index=header)\n",
    "    tb = tb.replace(to_replace=float(0), value='')\n",
    "    tb=tb.transpose()\n",
    "    display(HTML(tb.to_html()))\n",
    "    tb.to_csv(i+'-completion.csv',index=True)"
   ]
  },
  {
   "cell_type": "markdown",
   "metadata": {
    "deletable": true,
    "editable": true
   },
   "source": [
    "# Ventilated vs Not"
   ]
  },
  {
   "cell_type": "markdown",
   "metadata": {
    "deletable": true,
    "editable": true
   },
   "source": [
    "# Compare Hospital Death vs No Hospital Death"
   ]
  },
  {
   "cell_type": "code",
   "execution_count": null,
   "metadata": {
    "collapsed": false,
    "deletable": true,
    "editable": true,
    "scrolled": true
   },
   "outputs": [],
   "source": [
    "fac_list = df_var.loc[(df_var['dataType']!='numeric')&(df_var['category']!='identifier'),'varname']\n",
    "for a in fac_list:\n",
    "    if a in ['hospital_death','bmi','apache_3j_score','icu_id', 'hospital_bed_size_numeric', 'icu_admit_type', 'apsiii']:\n",
    "        continue\n",
    "    tbl = pd.crosstab(df[a], [df['data_source'],df['hospital_death']], margins = True)\n",
    "    #get percentage table\n",
    "    tbl_perc = tbl*100.0/tbl.xs('All', axis=0)\n",
    "    display(HTML(tbl_perc.to_html()))"
   ]
  },
  {
   "cell_type": "markdown",
   "metadata": {
    "deletable": true,
    "editable": true
   },
   "source": [
    "# Day 1 vs Hour 1"
   ]
  },
  {
   "cell_type": "markdown",
   "metadata": {
    "collapsed": true,
    "deletable": true,
    "editable": true
   },
   "source": [
    "# About Databases (Demographics)"
   ]
  },
  {
   "cell_type": "code",
   "execution_count": null,
   "metadata": {
    "collapsed": false,
    "deletable": true,
    "editable": true
   },
   "outputs": [],
   "source": [
    "categorical = ['elective_surgery', 'gender', 'hospital_death', 'icu_death', 'pregnant', 'readmission_status', 'smoking_status', 'teaching_hospital']\n",
    "continuous = ['age', 'height', 'hospital_los_days', 'icu_los_days', 'pre_icu_los_days', 'weight']\n",
    "\n",
    "t1 = tableone.TableOne(df, columns=categorical + continuous, categorical=categorical, groupby = 'data_source', pval=False)\n",
    "t1"
   ]
  }
 ],
 "metadata": {
  "kernelspec": {
   "display_name": "Python 2",
   "language": "python",
   "name": "python2"
  },
  "language_info": {
   "codemirror_mode": {
    "name": "ipython",
    "version": 2
   },
   "file_extension": ".py",
   "mimetype": "text/x-python",
   "name": "python",
   "nbconvert_exporter": "python",
   "pygments_lexer": "ipython2",
   "version": "2.7.12"
  }
 },
 "nbformat": 4,
 "nbformat_minor": 0
}
