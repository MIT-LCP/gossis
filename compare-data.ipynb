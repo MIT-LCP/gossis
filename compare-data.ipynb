{
 "cells": [
  {
   "cell_type": "markdown",
   "metadata": {
    "deletable": true,
    "editable": true
   },
   "source": [
    "# Laboratory values vs outcome"
   ]
  },
  {
   "cell_type": "markdown",
   "metadata": {
    "deletable": true,
    "editable": true
   },
   "source": [
    "Get the first laboratory measurements for patients admitted to the ICU. Plot the distribution of measurements for survival and non-survival groups."
   ]
  },
  {
   "cell_type": "code",
   "execution_count": null,
   "metadata": {
    "collapsed": false,
    "deletable": true,
    "editable": true
   },
   "outputs": [],
   "source": [
    "# Import libraries\n",
    "from __future__ import print_function\n",
    "\n",
    "import numpy as np\n",
    "import pandas as pd\n",
    "import matplotlib.pyplot as plt\n",
    "import matplotlib\n",
    "import yaml\n",
    "import os\n",
    "\n",
    "# used to print out pretty pandas dataframes\n",
    "from IPython.display import display, HTML\n",
    "\n",
    "%matplotlib inline\n",
    "plt.style.use('ggplot')\n",
    "\n",
    "font = {'family' : 'normal',\n",
    "        'size'   : 20}\n",
    "\n",
    "matplotlib.rc('font', **font)"
   ]
  },
  {
   "cell_type": "markdown",
   "metadata": {
    "deletable": true,
    "editable": true
   },
   "source": [
    "# Load in merged GOSSIS data"
   ]
  },
  {
   "cell_type": "code",
   "execution_count": null,
   "metadata": {
    "collapsed": false,
    "deletable": true,
    "editable": true
   },
   "outputs": [],
   "source": [
    "df = pd.read_csv('gossis-data.csv',header=0,sep=\",\")\n",
    "df['data_source'].value_counts()"
   ]
  },
  {
   "cell_type": "markdown",
   "metadata": {
    "deletable": true,
    "editable": true
   },
   "source": [
    "# Load in the header and the data type for each column"
   ]
  },
  {
   "cell_type": "code",
   "execution_count": null,
   "metadata": {
    "collapsed": false,
    "deletable": true,
    "editable": true
   },
   "outputs": [],
   "source": [
    "hdr = pd.read_csv('hdr/header.csv',header=None,sep=',')[0].values\n",
    "\n",
    "# load yaml definitions\n",
    "with open(\"hdr/variable-definitions.yaml\", 'r') as stream:\n",
    "    try:\n",
    "        varlist = yaml.load(stream)\n",
    "    except yaml.YAMLError as exc:\n",
    "        print(exc)\n",
    "\n",
    "# convert to dataframe\n",
    "df_var = pd.DataFrame.from_dict(varlist, orient='index')\n",
    "df_var['varname'] = df_var.index\n",
    "\n",
    "# specify the order of the categories - data is output in this order\n",
    "category_order = {'identifier': 1,\n",
    "                  'demographic': 2,\n",
    "                  'APACHE covariate': 3,\n",
    "                  'vitals': 4,\n",
    "                  'labs': 5,\n",
    "                  'labs blood gas': 6,\n",
    "                  'APACHE prediction': 10}\n",
    "df_var['category_order'] = df_var['category'].map(category_order)\n",
    "\n",
    "# sort df by the category, then by the variable name\n",
    "df_var.sort_values(['category_order','varname'],inplace=True)"
   ]
  },
  {
   "cell_type": "code",
   "execution_count": null,
   "metadata": {
    "collapsed": false,
    "deletable": true,
    "editable": true
   },
   "outputs": [],
   "source": [
    "df_var['category'].value_counts()"
   ]
  },
  {
   "cell_type": "code",
   "execution_count": null,
   "metadata": {
    "collapsed": false,
    "deletable": true,
    "editable": true
   },
   "outputs": [],
   "source": [
    "df_var['dataType'].value_counts()"
   ]
  },
  {
   "cell_type": "markdown",
   "metadata": {
    "deletable": true,
    "editable": true
   },
   "source": [
    "# Comparisons\n",
    "\n",
    "For comparisons, we are interested assessing each variable across the databases.\n",
    "\n",
    "For numeric/integer variables:\n",
    "\n",
    "* Compare the mean, median, standard deviation, 5th and 95th percentiles\n",
    "* Plot the distribution using histograms\n",
    "\n",
    "For string/binary (categorical) variables:\n",
    "\n",
    "* Compare the categories to see if they overlap\n",
    "* Compare the frequency of each category (cross-tab)"
   ]
  },
  {
   "cell_type": "markdown",
   "metadata": {
    "deletable": true,
    "editable": true
   },
   "source": [
    "## Compare readmissions"
   ]
  },
  {
   "cell_type": "code",
   "execution_count": null,
   "metadata": {
    "collapsed": false,
    "deletable": true,
    "editable": true
   },
   "outputs": [],
   "source": [
    "fac_list = ['elective_surgery','gender','hospital_death','icu_death','pregnant','readmission_status','smoking_status',\n",
    "           'gcs_unable_apache','gcs_eyes_apache','gcs_motor_apache','gcs_verbal_apache','intubated_apache','ventilated_apache',\n",
    "           'country','ethnicity','hospital_admit_source','hospital_disch_location','icu_admit_source',\n",
    "           'icu_admit_type','icu_disch_location','icu_stay_type','icu_type','hospital_bed_size']\n",
    "\n",
    "#bed size on eicu is a factor, but not the others\n",
    "\n",
    "for a in fac_list:\n",
    "    tbl = pd.crosstab(df[a], df['data_source'], margins = True)\n",
    "    display(HTML(tbl.to_html().replace('NaN', '')))\n",
    "    #get percentage table\n",
    "    tbl_perc = tbl/tbl.xs('All', axis=0)\n",
    "    display(HTML(tbl_perc.to_html()))"
   ]
  },
  {
   "cell_type": "markdown",
   "metadata": {
    "deletable": true,
    "editable": true
   },
   "source": [
    "## Compare APACHE-III score in eicu and anzics patients"
   ]
  },
  {
   "cell_type": "code",
   "execution_count": null,
   "metadata": {
    "collapsed": false,
    "deletable": true,
    "editable": true
   },
   "outputs": [],
   "source": [
    "bins = np.linspace(0, 200, 101)\n",
    "plt.figure(figsize=[16,10])\n",
    "#plt.hist(df_all.loc[df_all['db']=='mimic','apsiii'].values, bins,\n",
    "#         normed=True, alpha=0.5, label='mimic')\n",
    "plt.hist(df.loc[df['data_source']=='eicu','apache_3j_score'].dropna().values, bins,\n",
    "         normed=True, alpha=0.5, label='eicu')\n",
    "plt.hist(df.loc[df['data_source']=='anzics','apache_3j_score'].dropna().values, bins,\n",
    "         normed=True, alpha=0.5, label='anzics')\n",
    "plt.legend(loc='upper right')\n",
    "plt.xlabel('APACHE III-j score')\n",
    "plt.ylabel('Proportion of patients')\n",
    "plt.show()"
   ]
  },
  {
   "cell_type": "markdown",
   "metadata": {
    "deletable": true,
    "editable": true
   },
   "source": [
    "As we can see the distributions are very similar, though ANZICS seems to have lower acuity."
   ]
  },
  {
   "cell_type": "code",
   "execution_count": null,
   "metadata": {
    "collapsed": false,
    "deletable": true,
    "editable": true
   },
   "outputs": [],
   "source": [
    "bins = np.linspace(0, 200, 101)\n",
    "plt.figure(figsize=[16,10])\n",
    "plt.rcParams.update({'font.size': 20})\n",
    "plt.hist(df.loc[df['data_source']=='eicu','apache_3j_score'].dropna().values, bins,\n",
    "         normed=True, alpha=0.5, label='eicu')\n",
    "plt.hist(df.loc[df['data_source']=='anzics','apache_3j_score'].dropna().values, bins,\n",
    "         normed=True, alpha=0.5, label='anzics')\n",
    "plt.hist(df.loc[df['data_source']=='mimic','apache_3j_score'].dropna().values, bins,\n",
    "         normed=True, alpha=0.5, label='mimic')\n",
    "plt.legend(loc='upper right')\n",
    "plt.show()"
   ]
  },
  {
   "cell_type": "markdown",
   "metadata": {
    "deletable": true,
    "editable": true
   },
   "source": [
    "Note that we don't have any data for MIMIC for the APACHE-III score."
   ]
  },
  {
   "cell_type": "code",
   "execution_count": null,
   "metadata": {
    "collapsed": false,
    "deletable": true,
    "editable": true,
    "scrolled": false
   },
   "outputs": [],
   "source": [
    "from scipy.signal import medfilt\n",
    "\n",
    "#hospital_los_days has '#REF!' under orchestra\n",
    "cont = ['age','bmi','height','icu_los_days','pre_icu_los_days','weight',\n",
    "       'albumin_apache','arf_apache','bilirubin_apache','bun_apache','creatinine_apache','fio2_apache','glucose_apache',\n",
    "       'heart_rate_apache','hematocrit_apache','map_apache','paco2_apache','paco2_for_ph_apache','pao2_apache', 'ph_apache',\n",
    "       'resprate_apache','sodium_apache','temp_apache','urineoutput_apache','wbc_apache','d1_diasbp_invasive_max',\n",
    "       'd1_diasbp_invasive_min','d1_diasbp_max','d1_diasbp_min','d1_diasbp_noninvasive_max','d1_diasbp_noninvasive_min',\n",
    "       'd1_heartrate_max','d1_heartrate_min','d1_mbp_invasive_max','d1_mbp_invasive_min','d1_mbp_max','d1_mbp_min',\n",
    "       'd1_mbp_noninvasive_max','d1_mbp_noninvasive_min','d1_resprate_max','d1_resprate_min','d1_spo2_max','d1_spo2_min',\n",
    "       'd1_sysbp_invasive_max','d1_sysbp_invasive_min','d1_sysbp_max','d1_sysbp_min','d1_sysbp_noninvasive_max',\n",
    "       'd1_sysbp_noninvasive_min','d1_temp_max','d1_temp_min','h1_diasbp_invasive_max','h1_diasbp_invasive_min',\n",
    "       'h1_diasbp_max','h1_diasbp_min','h1_diasbp_noninvasive_max','h1_diasbp_noninvasive_min','h1_heartrate_max',\n",
    "       'h1_heartrate_min','h1_mbp_invasive_max','h1_mbp_invasive_min','h1_mbp_max','h1_mbp_min','h1_mbp_noninvasive_max',\n",
    "       'h1_mbp_noninvasive_min','h1_resprate_max','h1_resprate_min','h1_spo2_max','h1_spo2_min','h1_sysbp_invasive_max',\n",
    "       'h1_sysbp_invasive_min','h1_sysbp_max','h1_sysbp_min','h1_sysbp_noninvasive_max','h1_sysbp_noninvasive_min',\n",
    "       'h1_temp_max','h1_temp_min','d1_albumin_max','d1_albumin_min','d1_bilirubin_max','d1_bilirubin_min','d1_bun_max',\n",
    "       'd1_bun_min','d1_calcium_max','d1_calcium_min','d1_creatinine_max','d1_creatinine_min','d1_glucose_max','d1_glucose_min',\n",
    "       'd1_hco3_max','d1_hco3_min','d1_hemaglobin_max','d1_hemaglobin_min','d1_hematocrit_max','d1_hematocrit_min',\n",
    "       'd1_inr_max','d1_inr_min','d1_lactate_max','d1_lactate_min','d1_platelets_max','d1_platelets_min','d1_potassium_max',\n",
    "       'd1_potassium_min','d1_sodium_max','d1_sodium_min','d1_wbc_max','d1_wbc_min','h1_albumin_max','h1_albumin_min',\n",
    "       'h1_bilirubin_max','h1_bilirubin_min','h1_bun_max','h1_bun_min','h1_calcium_max','h1_calcium_min','h1_creatinine_max',\n",
    "       'h1_creatinine_min','h1_glucose_max','h1_glucose_min','h1_hco3_max','h1_hco3_min','h1_hemaglobin_max','h1_hemaglobin_min',\n",
    "       'h1_hematocrit_max','h1_hematocrit_min','h1_inr_max','h1_inr_min','h1_lactate_max','h1_lactate_min','h1_platelets_max',\n",
    "       'h1_platelets_min','h1_potassium_max','h1_potassium_min','h1_sodium_max','h1_sodium_min','h1_wbc_max','h1_wbc_min',\n",
    "       'd1_arterial_pco2_max','d1_arterial_pco2_min','d1_arterial_ph_max','d1_arterial_ph_min','d1_arterial_po2_max',\n",
    "       'd1_arterial_po2_min','d1_pao2fio2ratio_min','h1_arterial_pco2_max','h1_arterial_pco2_min','h1_arterial_ph_max',\n",
    "        'h1_arterial_ph_min','h1_arterial_po2_max','h1_arterial_po2_min','h1_pao2fio2ratio_max','h1_pao2fio2ratio_min',\n",
    "       'apache_3j_score']\n",
    "\n",
    "tb_header = ['anzics','eicu','mimic','orchestra']\n",
    "d = {}\n",
    "#removed bins\n",
    "#bins = np.linspace(0, 200, 101)\n",
    "for c in cont:\n",
    "    \n",
    "    avg_a = np.mean(df.loc[df['data_source']=='anzics',c].dropna().values)\n",
    "    avg_e = np.mean(df.loc[df['data_source']=='eicu',c].dropna().values)\n",
    "    avg_m = np.mean(df.loc[df['data_source']=='mimic',c].dropna().values)\n",
    "    avg_o = np.mean(df.loc[df['data_source']=='orchestra',c].dropna().values)\n",
    "    d[c+'_avg']= [avg_a, avg_e, avg_m, avg_o]\n",
    "    std_a = np.std(df.loc[df['data_source']=='anzics',c].dropna().values)\n",
    "    std_e = np.std(df.loc[df['data_source']=='eicu',c].dropna().values)\n",
    "    std_m = np.std(df.loc[df['data_source']=='mimic',c].dropna().values)\n",
    "    std_o = np.std(df.loc[df['data_source']=='orchestra',c].dropna().values)\n",
    "    d[c+'_std']= [std_a, std_e, std_m, std_o]\n",
    "    med_a = np.median(df.loc[df['data_source']=='anzics',c].dropna().values)\n",
    "    med_e = np.median(df.loc[df['data_source']=='eicu',c].dropna().values)\n",
    "    med_m = np.median(df.loc[df['data_source']=='mimic',c].dropna().values)\n",
    "    med_o = np.median(df.loc[df['data_source']=='orchestra',c].dropna().values)\n",
    "    d[c+'_med']= [med_a, med_e, med_m, med_o]\n",
    "    \n",
    "    # create a histogram of the data\n",
    "    plt.figure(figsize=[16,10])\n",
    "    plt.rcParams.update({'font.size': 20})\n",
    "    bins = np.linspace( df.loc[:,c].dropna().quantile(0.01), df.loc[:,c].dropna().quantile(0.99), 51 )\n",
    "    \n",
    "    if avg_e is np.nan:\n",
    "        # no data\n",
    "        binned_e = [0,0]\n",
    "        bins_e = [0,0]\n",
    "        lbl_e = 'eicu (no data)'\n",
    "        plt.plot(binned_e, bins_e, 'o', label=lbl_e)\n",
    "    else:\n",
    "        lbl_e = 'eicu'\n",
    "        binned_e,bins_e,patches_e = plt.hist(df.loc[df['data_source']=='eicu',c].dropna().values,\n",
    "                                                      bins=bins, histtype='bar',normed=True, lw=2, alpha=0.5,\n",
    "                                                      label=lbl_e)\n",
    "        \n",
    "    if avg_a is np.nan:\n",
    "        # no data\n",
    "        binned_a = [0,0]\n",
    "        bins_a = [0,0]\n",
    "        lbl_a = 'anzics (no data)'\n",
    "        plt.plot(binned_a, bins_a, 'o', label=lbl_a)\n",
    "    else:\n",
    "        lbl_a = 'anzics'\n",
    "        binned_a,bins_a,patches_a = plt.hist(df.loc[df['data_source']=='anzics',c].dropna().values,\n",
    "                                             bins=bins, histtype='bar',normed=True, lw=2, alpha=0.5,\n",
    "                                             label=lbl_a) \n",
    "    if avg_m is np.nan:\n",
    "        # no data\n",
    "        binned_m = [0,0]\n",
    "        bins_m = [0,0]\n",
    "        lbl_m = 'mimic (no data)'\n",
    "        plt.plot(binned_m, bins_m, 'o', label=lbl_m)\n",
    "    else:\n",
    "        lbl_m = 'mimic'\n",
    "        binned_m,bins_m,patches_m = plt.hist(df.loc[df['data_source']=='mimic',c].dropna().values,\n",
    "                                             bins=bins, histtype='bar',normed=True, lw=2, alpha=0.5,\n",
    "                                             label=lbl_m)\n",
    "    if avg_o is np.nan:\n",
    "        # no data\n",
    "        binned_o = [0,0]\n",
    "        bins_o = [0,0]\n",
    "        lbl_o = 'orchestra (no data)'\n",
    "        plt.plot(binned_o, bins_o, 'o', label=lbl_o)\n",
    "    else:\n",
    "        lbl_o = 'orchestra'\n",
    "        binned_o,bins_o,patches_o = plt.hist(df.loc[df['data_source']=='orchestra',c].dropna().values,\n",
    "                                             bins=bins, histtype='bar',normed=True, lw=2, alpha=0.5,\n",
    "                                             label=lbl_o)\n",
    "    plt.legend(loc='upper right')\n",
    "    plt.savefig(os.path.join('results','hist',c+'.png'))\n",
    "    plt.close()\n",
    "    \n",
    "    # just plot a line plot of the data\n",
    "    plt.figure(figsize=[16,10])\n",
    "    plt.rcParams.update({'font.size': 20})\n",
    "    plt.plot(bins_e[0:-1] + (bins_e[1]-bins_e[0])/2.0, medfilt(binned_e,3), '-', lw=2, alpha=0.5, label=lbl_e)\n",
    "    plt.plot(bins_a[0:-1] + (bins_a[1]-bins_a[0])/2.0, medfilt(binned_a,3), '-', lw=2, alpha=0.5, label=lbl_a) \n",
    "    plt.plot(bins_m[0:-1] + (bins_m[1]-bins_m[0])/2.0, medfilt(binned_m,3), '-', lw=2, alpha=0.5, label=lbl_m)\n",
    "    plt.plot(bins_o[0:-1] + (bins_o[1]-bins_o[0])/2.0, medfilt(binned_o,3), '-', lw=2, alpha=0.5, label=lbl_o)\n",
    "    plt.legend(loc='upper right')\n",
    "    plt.savefig(os.path.join('results',c+'.png'))\n",
    "    plt.close()\n",
    "    \n",
    "    \n",
    "    \n",
    "tb = pd.DataFrame(d, index=tb_header)\n",
    "tb=tb.transpose()\n",
    "display(HTML(tb.to_html().replace('NaN', '')))\n",
    "        "
   ]
  },
  {
   "cell_type": "code",
   "execution_count": null,
   "metadata": {
    "collapsed": true
   },
   "outputs": [],
   "source": [
    "tb.to_csv('gossis-stats.csv',index=True)"
   ]
  },
  {
   "cell_type": "code",
   "execution_count": null,
   "metadata": {
    "collapsed": false,
    "deletable": true,
    "editable": true,
    "scrolled": true
   },
   "outputs": [],
   "source": [
    "bins = np.linspace(0, 200, 101)\n",
    "plt.figure(figsize=[16,10])\n",
    "plt.hist(df.loc[df['data_source']=='mimic','d1_creatinine_max'].dropna().values, bins,\n",
    "         normed=True, alpha=0.5, label='mimic')\n",
    "plt.hist(df.loc[df['data_source']=='eicu','d1_creatinine_max'].dropna().values, bins,\n",
    "         normed=True, alpha=0.5, label='eicu')\n",
    "plt.hist(df.loc[df['data_source']=='anzics','d1_creatinine_max'].dropna().values, bins,\n",
    "         normed=True, alpha=0.5, label='anzics')\n",
    "plt.legend(loc='upper right')\n",
    "plt.show()"
   ]
  },
  {
   "cell_type": "code",
   "execution_count": null,
   "metadata": {
    "collapsed": true,
    "deletable": true,
    "editable": true
   },
   "outputs": [],
   "source": []
  }
 ],
 "metadata": {
  "kernelspec": {
   "display_name": "Python 2",
   "language": "python",
   "name": "python2"
  },
  "language_info": {
   "codemirror_mode": {
    "name": "ipython",
    "version": 2
   },
   "file_extension": ".py",
   "mimetype": "text/x-python",
   "name": "python",
   "nbconvert_exporter": "python",
   "pygments_lexer": "ipython2",
   "version": "2.7.12"
  }
 },
 "nbformat": 4,
 "nbformat_minor": 0
}
