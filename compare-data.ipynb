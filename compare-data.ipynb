{
 "cells": [
  {
   "cell_type": "markdown",
   "metadata": {},
   "source": [
    "# Laboratory values vs outcome"
   ]
  },
  {
   "cell_type": "markdown",
   "metadata": {},
   "source": [
    "Get the first laboratory measurements for patients admitted to the ICU. Plot the distribution of measurements for survival and non-survival groups."
   ]
  },
  {
   "cell_type": "code",
   "execution_count": null,
   "metadata": {
    "collapsed": false
   },
   "outputs": [],
   "source": [
    "# Import libraries\n",
    "import numpy as np\n",
    "import pandas as pd\n",
    "import matplotlib.pyplot as plt\n",
    "import psycopg2\n",
    "from scipy.stats import ks_2samp\n",
    "%matplotlib inline\n",
    "plt.style.use('ggplot') "
   ]
  },
  {
   "cell_type": "markdown",
   "metadata": {},
   "source": [
    "## Get first laboratory measurement on ICU admission"
   ]
  },
  {
   "cell_type": "code",
   "execution_count": null,
   "metadata": {
    "collapsed": false
   },
   "outputs": [],
   "source": [
    "# create a database connection\n",
    "sqluser = 'group16'\n",
    "dbname = 'eicu'\n",
    "sqlhost = 'sl-us-dal-9-portal.6.dblayer.com'\n",
    "sqlport = 20689\n",
    "\n",
    "query_schema = 'set search_path to eicu;'\n",
    "\n",
    "# Connect to local postgres version of mimic\n",
    "con = psycopg2.connect(dbname=dbname, user=sqluser, password=sqlpass, host=sqlhost, port=sqlport)\n",
    "\n",
    "# Modify first day labs code: \n",
    "# https://github.com/MIT-LCP/mimic-code/tree/master/etc/firstday\n",
    "query = query_schema + \\\n",
    "\"\"\"\n",
    "select patientunitstayid\n",
    ", acutephysiologyscore as apsiii\n",
    ", 1 / (1 + exp(- (-4.4360 + 0.04726*(acutephysiologyscore) ))) as APSIII_PROB\n",
    ", apachescore\n",
    ", actualhospitalmortality\n",
    "from apachepatientresult\n",
    "where apacheversion = 'IVa';\n",
    "\"\"\"\n",
    "\n",
    "eicu = pd.read_sql_query(query,con)\n",
    "con.close()\n",
    "eicu.head()"
   ]
  },
  {
   "cell_type": "code",
   "execution_count": null,
   "metadata": {
    "collapsed": false
   },
   "outputs": [],
   "source": [
    "az = pd.read_csv('Datathon_2006_2015_CORE_APD_clean.csv')\n",
    "az.head()"
   ]
  },
  {
   "cell_type": "code",
   "execution_count": null,
   "metadata": {
    "collapsed": true
   },
   "outputs": [],
   "source": [
    "az['apsiii'] = \\\n",
    "az['albuminscore'] + \\\n",
    "az['bilirubinscore'] + \\\n",
    "az['creatininescore'] + \\\n",
    "az['glucosescore'] + \\\n",
    "az['haematocritscore'] + \\\n",
    "az['heartratescore'] + \\\n",
    "az['meanarterialpressurescore'] + \\\n",
    "az['sodiumscore'] + \\\n",
    "az['neurologicalscore'] + \\\n",
    "az['oxygenationscore'] + \\\n",
    "az['phscore'] + \\\n",
    "az['respiratoryratescore'] + \\\n",
    "az['temperaturescore'] + \\\n",
    "az['ureascore'] + \\\n",
    "az['urineoutputscore'] + \\\n",
    "az['whitecellcountscore']\n",
    "\n",
    "az['apsiii_prob'] = 1 / (1 + np.exp(- (-4.4360 + 0.04726*(az['apsiii']) )))"
   ]
  },
  {
   "cell_type": "code",
   "execution_count": null,
   "metadata": {
    "collapsed": false
   },
   "outputs": [],
   "source": [
    "# create a database connection for mimic\n",
    "sqluser = 'alistairewj'\n",
    "dbname = 'mimic'\n",
    "sqlhost = 'localhost'\n",
    "sqlport = 5432\n",
    "\n",
    "query_schema = 'set search_path to public,mimiciii;'\n",
    "\n",
    "con_mimic = psycopg2.connect(dbname=dbname, user=sqluser, host=sqlhost, port=sqlport)\n",
    "\n",
    "# Modify first day labs code: \n",
    "# https://github.com/MIT-LCP/mimic-code/tree/master/etc/firstday\n",
    "query = query_schema + \\\n",
    "\"\"\"\n",
    "with t1 as\n",
    "(\n",
    "select\n",
    "    icustay_id\n",
    "    , ROW_NUMBER() over (partition by ie.subject_id order by intime) as rn\n",
    "from icustays ie\n",
    "inner join patients pt\n",
    "on ie.subject_id = pt.subject_id\n",
    "and pt.dob < (ie.intime - interval '1' year)\n",
    ")\n",
    "select icustay_id\n",
    ", apsiii\n",
    ", APSIII_PROB\n",
    ", adm.hospital_expire_flag as hosdead\n",
    "from apsiii ap\n",
    "inner join admissions adm\n",
    "on ap.hadm_id = adm.hadm_id\n",
    "where icustay_id in\n",
    "(select icustay_id from t1 where rn = 1);\n",
    "\"\"\"\n",
    "\n",
    "mimic = pd.read_sql_query(query,con_mimic)\n",
    "con_mimic.close()\n",
    "mimic.head()"
   ]
  },
  {
   "cell_type": "code",
   "execution_count": null,
   "metadata": {
    "collapsed": false
   },
   "outputs": [],
   "source": [
    "\n",
    "# define hospital mortality\n",
    "az['hosdead'] = (az['hosp_outcm']==2).astype(float)\n",
    "eicu['hosdead'] = (eicu['actualhospitalmortality']=='EXPIRED').astype(float)\n",
    "\n",
    "idx = (az['admepisode'] < 2)  & (az['apache3isincluded']==1) & (az['apache3score']>0)\n",
    "az_filt = az.loc[idx, ['apache3riskofdeath','apache3score',\n",
    "                       'apsiii','apsiii_prob','apache3isincluded','hosdead']]\n",
    "az_filt.head()\n",
    "\n",
    "# stack data together\n",
    "az_filt['db'] = 'anzics'\n",
    "mimic['db'] = 'mimic'\n",
    "eicu['db'] = 'eicu'\n",
    "\n",
    "\n",
    "df_all = pd.concat( [ az_filt[['apsiii','apsiii_prob','hosdead','db']],\n",
    "                     mimic[['apsiii','apsiii_prob','hosdead','db']],\n",
    "                     eicu[['apsiii','apsiii_prob','hosdead','db']] ]\n",
    "                   , axis=0, ignore_index=True)"
   ]
  },
  {
   "cell_type": "code",
   "execution_count": null,
   "metadata": {
    "collapsed": false
   },
   "outputs": [],
   "source": [
    "bins = np.linspace(0, 200, 101)\n",
    "plt.figure(figsize=[16,10])\n",
    "#plt.hist(df_all.loc[df_all['db']=='mimic','apsiii'].values, bins,\n",
    "#         normed=True, alpha=0.5, label='mimic')\n",
    "plt.hist(df_all.loc[df_all['db']=='eicu','apsiii'].values, bins,\n",
    "         normed=True, alpha=0.5, label='eicu')\n",
    "plt.hist(df_all.loc[df_all['db']=='anzics','apsiii'].values, bins,\n",
    "         normed=True, alpha=0.5, label='anzics')\n",
    "plt.legend(loc='upper right')\n",
    "plt.show()"
   ]
  },
  {
   "cell_type": "markdown",
   "metadata": {},
   "source": [
    "As we can see the distributions are very similar, though ANZICS seems to have lower acuity."
   ]
  },
  {
   "cell_type": "code",
   "execution_count": null,
   "metadata": {
    "collapsed": false
   },
   "outputs": [],
   "source": [
    "bins = np.linspace(0, 200, 101)\n",
    "plt.figure(figsize=[16,10])\n",
    "plt.rcParams.update({'font.size': 20})\n",
    "plt.hist(df_all.loc[df_all['db']=='mimic','apsiii'].values, bins,\n",
    "         normed=True, alpha=0.2, label='mimic')\n",
    "plt.hist(df_all.loc[df_all['db']=='eicu','apsiii'].values, bins,\n",
    "         normed=True, alpha=0.5, label='eicu')\n",
    "plt.hist(df_all.loc[df_all['db']=='anzics','apsiii'].values, bins,\n",
    "         normed=True, alpha=0.5, label='anzics')\n",
    "plt.legend(loc='upper right')\n",
    "plt.show()"
   ]
  },
  {
   "cell_type": "code",
   "execution_count": null,
   "metadata": {
    "collapsed": false
   },
   "outputs": [],
   "source": [
    "bins = np.linspace(0, 200, 101)\n",
    "plt.figure(figsize=[16,10])\n",
    "plt.rcParams.update({'font.size': 20})\n",
    "plt.hist(df_all.loc[df_all['db']=='mimic','apsiii'].values, bins,\n",
    "         normed=True, alpha=1, linewidth=4, cumulative=True, label='mimic', histtype='step')\n",
    "plt.hist(df_all.loc[df_all['db']=='eicu','apsiii'].values, bins,\n",
    "         normed=True, alpha=1, linewidth=4, cumulative=True, label='eicu', histtype='step')\n",
    "plt.hist(df_all.loc[df_all['db']=='anzics','apsiii'].values, bins,\n",
    "         normed=True, alpha=1, linewidth=4, cumulative=True, label='anzics', histtype='step')\n",
    "plt.legend(loc='upper right')\n",
    "plt.show()"
   ]
  },
  {
   "cell_type": "code",
   "execution_count": null,
   "metadata": {
    "collapsed": true
   },
   "outputs": [],
   "source": [
    "bins = np.linspace(0, 200, 101)\n",
    "plt.figure(figsize=[16,10])\n",
    "plt.rcParams.update({'font.size': 20})\n",
    "plt.hist(df_all.loc[df_all['db']=='mimic','apsiii'].values, bins,\n",
    "         normed=True, alpha=1.0, label='mimic')\n",
    "plt.hist(df_all.loc[df_all['db']=='eicu','apsiii'].values, bins,\n",
    "         normed=True, alpha=0.5, label='eicu')\n",
    "plt.hist(df_all.loc[df_all['db']=='anzics','apsiii'].values, bins,\n",
    "         normed=True, alpha=0.5, label='anzics')\n",
    "plt.legend(loc='upper right')\n",
    "plt.show()"
   ]
  },
  {
   "cell_type": "code",
   "execution_count": null,
   "metadata": {
    "collapsed": false
   },
   "outputs": [],
   "source": [
    "# calibration curve\n",
    "xi = np.linspace(0,1,11)\n",
    "\n",
    "calib = dict()\n",
    "xi_all = dict()\n",
    "\n",
    "db = ['anzics','eicu','mimic']\n",
    "\n",
    "for d in db:\n",
    "    calib[d] = np.zeros(len(xi)-1)\n",
    "    xi_all[d] = np.zeros(len(xi)-1)\n",
    "    dat = df_all.loc[df_all['db']==d,:]\n",
    "    for i,x in enumerate(xi[1:]):\n",
    "        idx = (dat['apsiii_prob']>xi[i])&(dat['apsiii_prob']<=xi[i+1])\n",
    "        xi_all[d][i] = dat.loc[idx,'hosdead'].mean()\n",
    "        calib[d][i] = dat.loc[idx,'apsiii_prob'].mean()\n"
   ]
  },
  {
   "cell_type": "code",
   "execution_count": null,
   "metadata": {
    "collapsed": false
   },
   "outputs": [],
   "source": [
    "plt.figure(figsize=[16,10])\n",
    "plt.rcParams.update({'font.size': 20})\n",
    "markers = ['o','d','^']\n",
    "\n",
    "for i,d in enumerate(db):\n",
    "    plt.plot(xi_all[d], calib[d], '--', marker=markers[i], label=d)\n",
    "    \n",
    "plt.plot([0,1],[0,1],'k-',linewidth=3)\n",
    "plt.xlim([0,1])\n",
    "plt.ylim([0,1])\n",
    "plt.legend(loc='lower right')\n",
    "plt.xlabel('Observed mortality')\n",
    "plt.ylabel('Expected (predicted) mortality')\n",
    "plt.show()"
   ]
  }
 ],
 "metadata": {
  "kernelspec": {
   "display_name": "Python 2",
   "language": "python",
   "name": "python2"
  },
  "language_info": {
   "codemirror_mode": {
    "name": "ipython",
    "version": 2
   },
   "file_extension": ".py",
   "mimetype": "text/x-python",
   "name": "python",
   "nbconvert_exporter": "python",
   "pygments_lexer": "ipython2",
   "version": "2.7.12"
  }
 },
 "nbformat": 4,
 "nbformat_minor": 0
}
