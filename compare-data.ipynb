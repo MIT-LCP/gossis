{
 "cells": [
  {
   "cell_type": "markdown",
   "metadata": {},
   "source": [
    "# Laboratory values vs outcome"
   ]
  },
  {
   "cell_type": "markdown",
   "metadata": {},
   "source": [
    "Get the first laboratory measurements for patients admitted to the ICU. Plot the distribution of measurements for survival and non-survival groups."
   ]
  },
  {
   "cell_type": "code",
   "execution_count": 1,
   "metadata": {
    "collapsed": false
   },
   "outputs": [],
   "source": [
    "# Import libraries\n",
    "from __future__ import print_function\n",
    "\n",
    "import numpy as np\n",
    "import pandas as pd\n",
    "import matplotlib.pyplot as plt\n",
    "import yaml\n",
    "\n",
    "# used to print out pretty pandas dataframes\n",
    "from IPython.display import display, HTML\n",
    "\n",
    "%matplotlib inline\n",
    "plt.style.use('ggplot') "
   ]
  },
  {
   "cell_type": "markdown",
   "metadata": {},
   "source": [
    "# Load in merged GOSSIS data"
   ]
  },
  {
   "cell_type": "code",
   "execution_count": 2,
   "metadata": {
    "collapsed": false
   },
   "outputs": [
    {
     "name": "stderr",
     "output_type": "stream",
     "text": [
      "/usr/local/lib/python2.7/dist-packages/IPython/core/interactiveshell.py:2705: DtypeWarning: Columns (1,5,6,9,10,16,18,19,21,22,23,24) have mixed types. Specify dtype option on import or set low_memory=False.\n",
      "  interactivity=interactivity, compiler=compiler, result=result)\n"
     ]
    }
   ],
   "source": [
    "df = pd.read_csv('gosiss-data.csv',header=0,sep=\",\")"
   ]
  },
  {
   "cell_type": "markdown",
   "metadata": {},
   "source": [
    "# Load in the header and the data type for each column"
   ]
  },
  {
   "cell_type": "code",
   "execution_count": 3,
   "metadata": {
    "collapsed": false
   },
   "outputs": [],
   "source": [
    "hdr = pd.read_csv('hdr/header.csv',header=None,sep=',')[0].values\n",
    "\n",
    "# load yaml definitions\n",
    "with open(\"hdr/variable-definitions.yaml\", 'r') as stream:\n",
    "    try:\n",
    "        varlist = yaml.load(stream)\n",
    "    except yaml.YAMLError as exc:\n",
    "        print(exc)\n",
    "\n",
    "# convert to dataframe\n",
    "df_var = pd.DataFrame.from_dict(varlist, orient='index')\n",
    "df_var['varname'] = df_var.index\n",
    "\n",
    "# specify the order of the categories - data is output in this order\n",
    "category_order = {'identifier': 1,\n",
    "                  'demographic': 2,\n",
    "                  'APACHE covariate': 3,\n",
    "                  'vitals': 4,\n",
    "                  'labs': 5,\n",
    "                  'labs blood gas': 6,\n",
    "                  'APACHE prediction': 10}\n",
    "df_var['category_order'] = df_var['category'].map(category_order)\n",
    "\n",
    "# sort df by the category, then by the variable name\n",
    "df_var.sort_values(['category_order','varname'],inplace=True)"
   ]
  },
  {
   "cell_type": "code",
   "execution_count": 4,
   "metadata": {
    "collapsed": false
   },
   "outputs": [
    {
     "data": {
      "text/plain": [
       "vitals               64\n",
       "labs                 60\n",
       "demographic          27\n",
       "APACHE covariate     25\n",
       "labs blood gas       16\n",
       "identifier            4\n",
       "APACHE prediction     4\n",
       "Name: category, dtype: int64"
      ]
     },
     "execution_count": 4,
     "metadata": {},
     "output_type": "execute_result"
    }
   ],
   "source": [
    "df_var['category'].value_counts()"
   ]
  },
  {
   "cell_type": "code",
   "execution_count": 5,
   "metadata": {
    "collapsed": false
   },
   "outputs": [
    {
     "data": {
      "text/plain": [
       "numeric    167\n",
       "string      14\n",
       "binary      11\n",
       "integer      8\n",
       "Name: dataType, dtype: int64"
      ]
     },
     "execution_count": 5,
     "metadata": {},
     "output_type": "execute_result"
    }
   ],
   "source": [
    "df_var['dataType'].value_counts()"
   ]
  },
  {
   "cell_type": "markdown",
   "metadata": {},
   "source": [
    "# Comparisons\n",
    "\n",
    "For comparisons, we are interested assessing each variable across the databases.\n",
    "\n",
    "For numeric/integer variables:\n",
    "\n",
    "* Compare the mean, median, standard deviation, 5th and 95th percentiles\n",
    "* Plot the distribution using histograms\n",
    "\n",
    "For string/binary (categorical) variables:\n",
    "\n",
    "* Compare the categories to see if they overlap\n",
    "* Compare the frequency of each category (cross-tab)"
   ]
  },
  {
   "cell_type": "markdown",
   "metadata": {},
   "source": [
    "## Compare readmissions"
   ]
  },
  {
   "cell_type": "code",
   "execution_count": 6,
   "metadata": {
    "collapsed": false
   },
   "outputs": [
    {
     "data": {
      "text/html": [
       "<table border=\"1\" class=\"dataframe\">\n",
       "  <thead>\n",
       "    <tr style=\"text-align: right;\">\n",
       "      <th>readmission_status</th>\n",
       "      <th>0.0</th>\n",
       "      <th>1.0</th>\n",
       "      <th>All</th>\n",
       "    </tr>\n",
       "    <tr>\n",
       "      <th>data_source</th>\n",
       "      <th></th>\n",
       "      <th></th>\n",
       "      <th></th>\n",
       "    </tr>\n",
       "  </thead>\n",
       "  <tbody>\n",
       "    <tr>\n",
       "      <th>anzics</th>\n",
       "      <td>289221</td>\n",
       "      <td>14591</td>\n",
       "      <td>303812</td>\n",
       "    </tr>\n",
       "    <tr>\n",
       "      <th>eicu</th>\n",
       "      <td>161020</td>\n",
       "      <td>10157</td>\n",
       "      <td>171177</td>\n",
       "    </tr>\n",
       "    <tr>\n",
       "      <th>mimic</th>\n",
       "      <td>48580</td>\n",
       "      <td>80</td>\n",
       "      <td>48660</td>\n",
       "    </tr>\n",
       "    <tr>\n",
       "      <th>orchestra</th>\n",
       "      <td>59693</td>\n",
       "      <td>0</td>\n",
       "      <td>59693</td>\n",
       "    </tr>\n",
       "    <tr>\n",
       "      <th>All</th>\n",
       "      <td>558514</td>\n",
       "      <td>24828</td>\n",
       "      <td>583342</td>\n",
       "    </tr>\n",
       "  </tbody>\n",
       "</table>"
      ],
      "text/plain": [
       "<IPython.core.display.HTML object>"
      ]
     },
     "metadata": {},
     "output_type": "display_data"
    }
   ],
   "source": [
    "tbl = pd.crosstab(df['data_source'], df['readmission_status'], margins = True)\n",
    "display(HTML(tbl.to_html().replace('NaN', '')))"
   ]
  },
  {
   "cell_type": "markdown",
   "metadata": {},
   "source": [
    "## Compare APACHE-III score in eicu and anzics patients"
   ]
  },
  {
   "cell_type": "code",
   "execution_count": 7,
   "metadata": {
    "collapsed": false
   },
   "outputs": [
    {
     "data": {
      "image/png": "[encoded data removed]",
      "text/plain": [
       "<matplotlib.figure.Figure at 0x7f16c13591d0>"
      ]
     },
     "metadata": {},
     "output_type": "display_data"
    }
   ],
   "source": [
    "bins = np.linspace(0, 200, 101)\n",
    "plt.figure(figsize=[16,10])\n",
    "#plt.hist(df_all.loc[df_all['db']=='mimic','apsiii'].values, bins,\n",
    "#         normed=True, alpha=0.5, label='mimic')\n",
    "plt.hist(df.loc[df['data_source']=='eicu','apache_3j_score'].dropna().values, bins,\n",
    "         normed=True, alpha=0.5, label='eicu')\n",
    "plt.hist(df.loc[df['data_source']=='anzics','apache_3j_score'].dropna().values, bins,\n",
    "         normed=True, alpha=0.5, label='anzics')\n",
    "plt.legend(loc='upper right')\n",
    "plt.show()"
   ]
  },
  {
   "cell_type": "markdown",
   "metadata": {},
   "source": [
    "As we can see the distributions are very similar, though ANZICS seems to have lower acuity."
   ]
  },
  {
   "cell_type": "code",
   "execution_count": 8,
   "metadata": {
    "collapsed": false
   },
   "outputs": [
    {
     "data": {
      "image/png": "[encoded data removed]",
      "text/plain": [
       "<matplotlib.figure.Figure at 0x7f16bf44b910>"
      ]
     },
     "metadata": {},
     "output_type": "display_data"
    }
   ],
   "source": [
    "bins = np.linspace(0, 200, 101)\n",
    "plt.figure(figsize=[16,10])\n",
    "plt.rcParams.update({'font.size': 20})\n",
    "plt.hist(df.loc[df['data_source']=='eicu','apache_3j_score'].dropna().values, bins,\n",
    "         normed=True, alpha=0.5, label='eicu')\n",
    "plt.hist(df.loc[df['data_source']=='anzics','apache_3j_score'].dropna().values, bins,\n",
    "         normed=True, alpha=0.5, label='anzics')\n",
    "plt.hist(df.loc[df['data_source']=='mimic','apache_3j_score'].dropna().values, bins,\n",
    "         normed=True, alpha=0.5, label='mimic')\n",
    "plt.legend(loc='upper right')\n",
    "plt.show()"
   ]
  },
  {
   "cell_type": "markdown",
   "metadata": {},
   "source": [
    "Note that we don't have any data for MIMIC for the APACHE-III score."
   ]
  }
 ],
 "metadata": {
  "kernelspec": {
   "display_name": "Python 2",
   "language": "python",
   "name": "python2"
  },
  "language_info": {
   "codemirror_mode": {
    "name": "ipython",
    "version": 2
   },
   "file_extension": ".py",
   "mimetype": "text/x-python",
   "name": "python",
   "nbconvert_exporter": "python",
   "pygments_lexer": "ipython2",
   "version": "2.7.12"
  }
 },
 "nbformat": 4,
 "nbformat_minor": 0
}
