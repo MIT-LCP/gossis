{
 "cells": [
  {
   "cell_type": "code",
   "execution_count": null,
   "metadata": {
    "collapsed": true
   },
   "outputs": [],
   "source": [
    "from __future__ import print_function\n",
    "\n",
    "import numpy as np\n",
    "import pandas as pd\n",
    "import yaml\n",
    "import matplotlib.pyplot as plt\n",
    "\n",
    "%matplotlib inline"
   ]
  },
  {
   "cell_type": "code",
   "execution_count": null,
   "metadata": {
    "collapsed": true
   },
   "outputs": [],
   "source": [
    "df_eicu = pd.read_csv('eicu/eicu-gosiss-data.csv',header=0,sep=',')\n",
    "df_anzics = pd.read_csv('anzics/anzics-gosiss-data.csv',header=0,sep=',')\n",
    "df_mimic = pd.read_csv('mimic-iii/mimic-iii-gosiss-data.csv',header=0,sep=',')\n",
    "df_orchestra = pd.read_csv('orchestra/orchestra-gosiss-data.csv',header=0,sep=',')"
   ]
  },
  {
   "cell_type": "code",
   "execution_count": null,
   "metadata": {
    "collapsed": true
   },
   "outputs": [],
   "source": [
    "# load in the header columns\n",
    "hdr = pd.read_csv('hdr/header.csv',header=None,sep=',')[0].values"
   ]
  },
  {
   "cell_type": "code",
   "execution_count": null,
   "metadata": {
    "collapsed": false,
    "scrolled": false
   },
   "outputs": [],
   "source": [
    "# loop through and print whether the data is present\n",
    "print('Is the data available for the given dataset?')\n",
    "print('A blank indicates it is available. N/A specifies not available.')\n",
    "print('')\n",
    "\n",
    "print('{:30s}'.format('dataset'), end='\\t')\n",
    "data_source = ['anzics','eicu','mCV','mMV','orchestra']\n",
    "print('\\t'.join(data_source))\n",
    "\n",
    "print_list = ['','','','','']\n",
    "idxCV = df_mimic['data_source']=='carevue'\n",
    "df_list = [df_anzics, df_eicu, df_mimic[idxCV], df_mimic[~idxCV], df_orchestra]\n",
    "for c in hdr:\n",
    "    print('{:30s}'.format(c),end=\"\\t\")\n",
    "    \n",
    "    for i, d in enumerate(df_list):\n",
    "        if np.all(d[c].isnull()):\n",
    "            print_list[i] = 'N/A'\n",
    "        else:\n",
    "            print_list[i] = ''\n",
    "        \n",
    "    print('\\t'.join(print_list))"
   ]
  },
  {
   "cell_type": "code",
   "execution_count": null,
   "metadata": {
    "collapsed": false
   },
   "outputs": [],
   "source": [
    "# print the same as above to a file - with descriptions and categories\n",
    "# load yaml definitions\n",
    "with open(\"hdr/variable-definitions.yaml\", 'r') as stream:\n",
    "    try:\n",
    "        varlist = yaml.load(stream)\n",
    "    except yaml.YAMLError as exc:\n",
    "        print(exc)\n",
    "\n",
    "# convert to dataframe\n",
    "df_var = pd.DataFrame.from_dict(varlist, orient='index')\n",
    "df_var['varname'] = df_var.index\n",
    "\n",
    "# specify the order of the categories - data is output in this order\n",
    "category_order = {'identifier': 1,\n",
    "                  'demographic': 2,\n",
    "                  'APACHE covariate': 3,\n",
    "                  'vitals': 4,\n",
    "                  'labs': 5,\n",
    "                  'labs blood gas': 6,\n",
    "                  'APACHE prediction': 10}\n",
    "df_var['category_order'] = df_var['category'].map(category_order)\n",
    "\n",
    "\n",
    "# sort df by the category, then by the variable name\n",
    "df_var.sort_values(['category_order','varname'],inplace=True)\n",
    "\n",
    "data_source = ['anzics','eicu','mimic','orchestra']\n",
    "df_list = [df_anzics, df_eicu, df_mimic, df_orchestra]\n",
    "print_list = ['','','','','']\n",
    "\n",
    "with open(\"GOSSIS_VARIABLE_COMPLETION.csv\",\"w\") as fp:\n",
    "    fp.write('variables,category,description,')\n",
    "    fp.write(','.join(data_source))\n",
    "    fp.write('\\n')\n",
    "    \n",
    "    for c in df_var.index:\n",
    "        for i, d in enumerate(df_list):\n",
    "            if np.all(d[c].isnull()):\n",
    "                print_list[i] = 'N/A'\n",
    "            else:\n",
    "                print_list[i] = ''\n",
    "        fp.write(c + ',')\n",
    "        \n",
    "        # write the category/description of the column\n",
    "        fp.write('\"' + df_var.loc[c, 'category'] + '\",')\n",
    "        fp.write('\"' + df_var.loc[c, 'description'] + '\",')\n",
    "        \n",
    "        # write whether data is available\n",
    "        fp.write(','.join(print_list))\n",
    "        fp.write('\\n')\n",
    "        "
   ]
  },
  {
   "cell_type": "code",
   "execution_count": null,
   "metadata": {
    "collapsed": false
   },
   "outputs": [],
   "source": [
    "# merge and spit out the data\n",
    "df = pd.concat([df_eicu, df_anzics, df_mimic, df_orchestra],ignore_index=True)\n",
    "df['data_source'].value_counts()"
   ]
  },
  {
   "cell_type": "code",
   "execution_count": null,
   "metadata": {
    "collapsed": false
   },
   "outputs": [],
   "source": [
    "# for the purposes of data comparison, combine carevue/metavision/both\n",
    "df.loc[np.in1d(df['data_source'],['carevue','metavision','both']),'data_source'] = 'mimic'\n",
    "df['data_source'].value_counts()"
   ]
  },
  {
   "cell_type": "code",
   "execution_count": null,
   "metadata": {
    "collapsed": true
   },
   "outputs": [],
   "source": [
    "# load the three dataframes\n",
    "df.to_csv('gossis-data.csv',index=False)"
   ]
  }
 ],
 "metadata": {
  "kernelspec": {
   "display_name": "Python 2",
   "language": "python",
   "name": "python2"
  },
  "language_info": {
   "codemirror_mode": {
    "name": "ipython",
    "version": 2
   },
   "file_extension": ".py",
   "mimetype": "text/x-python",
   "name": "python",
   "nbconvert_exporter": "python",
   "pygments_lexer": "ipython2",
   "version": "2.7.12"
  }
 },
 "nbformat": 4,
 "nbformat_minor": 0
}
