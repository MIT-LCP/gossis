{
 "cells": [
  {
   "cell_type": "markdown",
   "metadata": {},
   "source": [
    "# Load data from SQL, parse it appropriately\n",
    "\n",
    "This script loads the data from a MIMIC-III database and parses the data for concepts required for the GOSISS project. The script outputs the `mimic-iii-gosiss-data.csv` file for later use."
   ]
  },
  {
   "cell_type": "code",
   "execution_count": null,
   "metadata": {
    "collapsed": true
   },
   "outputs": [],
   "source": [
    "from __future__ import print_function\n",
    "\n",
    "import psycopg2\n",
    "import numpy as np\n",
    "import pandas as pd\n",
    "import os \n",
    "\n",
    "# cursors need to be rolled back if they fail\n",
    "def execute_query_safely(sql, con):\n",
    "    cur = con.cursor()\n",
    "    \n",
    "    # try to execute the query\n",
    "    try:\n",
    "        cur.execute(sql)\n",
    "    except:\n",
    "        # if an exception, rollback, rethrow the exception - finally closes the connection\n",
    "        cur.execute('rollback;')\n",
    "        raise\n",
    "    finally:\n",
    "        cur.close()\n",
    "    \n",
    "    return\n",
    "\n",
    "import getpass\n",
    "\n",
    "import matplotlib.pyplot as plt\n",
    "\n",
    "%matplotlib inline"
   ]
  },
  {
   "cell_type": "markdown",
   "metadata": {},
   "source": [
    "## Connect to database"
   ]
  },
  {
   "cell_type": "code",
   "execution_count": null,
   "metadata": {
    "collapsed": false
   },
   "outputs": [],
   "source": [
    "# prompt user for username/password\n",
    "host='polya'\n",
    "port=5432\n",
    "print('Connecting to {} on port {} ...'.format(host,port))\n",
    "sqluser = getpass.getuser()\n",
    "sqlpass = getpass.getpass(prompt='Username: {}\\nPassword: '.format(sqluser))\n",
    "\n",
    "con = psycopg2.connect(dbname='mimic', host=host, port=port, user=sqluser, password=sqlpass)"
   ]
  },
  {
   "cell_type": "markdown",
   "metadata": {},
   "source": [
    "## Create initial cohort"
   ]
  },
  {
   "cell_type": "code",
   "execution_count": null,
   "metadata": {
    "collapsed": false
   },
   "outputs": [],
   "source": [
    "# default is to write to public and read from both public and mimiciii\n",
    "query_schema = \"set search_path to public,mimiciii;\"\n",
    "\n",
    "# read in file/create base cohort\n",
    "f = 'sql/cohort.sql'\n",
    "with open(f, 'r') as fp:\n",
    "    query = ''.join(fp.readlines())\n",
    "\n",
    "# Execute the query\n",
    "print('Generating materialized view using {} ...'.format(f),end=' ')\n",
    "execute_query_safely(query_schema + query, con)\n",
    "print('done.')"
   ]
  },
  {
   "cell_type": "code",
   "execution_count": null,
   "metadata": {
    "collapsed": false
   },
   "outputs": [],
   "source": [
    "# take a peek at the base cohort\n",
    "query = query_schema + \"\"\"select * from gosiss_cohort\"\"\"\n",
    "co = pd.read_sql_query(query,con)\n",
    "\n",
    "# print out the exclusions\n",
    "print('Cohort - initial size: {} ICU stays'.format(co.shape[0]))\n",
    "idxRem = np.zeros(co.shape[0])\n",
    "for c in co.columns:\n",
    "    if c.startswith('exclusion_'):\n",
    "        print('  {:5g} ({:2.2f}%) - {}'.format(np.sum(co[c]),np.mean(co[c])*100.0, c))\n",
    "        idxRem[co[c].values==1] = 1\n",
    "        \n",
    "print('Final cohort size: {} ICU stays ({:2.2f}%).'.format(co.shape[0] - np.sum(idxRem), (1-np.mean(idxRem))*100.0))"
   ]
  },
  {
   "cell_type": "markdown",
   "metadata": {},
   "source": [
    "## Create necessary materialized views"
   ]
  },
  {
   "cell_type": "code",
   "execution_count": null,
   "metadata": {
    "collapsed": false
   },
   "outputs": [],
   "source": [
    "# get a list of all SQL files in the subfolder\n",
    "query_path = './sql/'\n",
    "queries = [f for f in os.listdir(query_path) \n",
    "             # only keep the filename if it is actually a file (and not a directory)\n",
    "            if os.path.isfile(os.path.join(query_path,f))\n",
    "             # and only keep the filename if it is an SQL file\n",
    "            & f.endswith('.sql')\n",
    "            # and we do *not* want the cohort - it's generated above\n",
    "            & (f != 'cohort.sql')]\n",
    "\n",
    "# make sure 'apsiii.sql' is the last query run\n",
    "if 'apsiii.sql' in queries:\n",
    "    queries.remove('apsiii.sql')\n",
    "    queries.append('apsiii.sql')\n",
    "\n",
    "# execute each SQL file to generate the materialized views\n",
    "for f in queries:\n",
    "    print('Executing {} ...'.format(f), end=' ')\n",
    "    \n",
    "    with open(os.path.join(query_path,f)) as fp:\n",
    "        query = ''.join(fp.readlines())\n",
    "        \n",
    "    execute_query_safely(query_schema + query, con)\n",
    "        \n",
    "    print('done.')"
   ]
  },
  {
   "cell_type": "markdown",
   "metadata": {},
   "source": [
    "# 2 - Extract all covariates and outcome measures\n",
    "\n",
    "We now aggregate all the data from the various views into a single dataframe."
   ]
  },
  {
   "cell_type": "code",
   "execution_count": null,
   "metadata": {
    "collapsed": false
   },
   "outputs": [],
   "source": [
    "# Load in the query from file\n",
    "query = query_schema + \"\"\"\n",
    "--FINAL QUERY\n",
    "select\n",
    "  apsiii.*\n",
    "from gosiss_cohort co\n",
    "-- The following tables are generated by code within this repository\n",
    "left join gosiss_apsiii apsiii\n",
    "  on co.icustay_id = apsiii.icustay_id\n",
    "-- apply exclusions\n",
    "where co.exclusion_readmission = 0\n",
    "  and co.exclusion_age = 0\n",
    "  and co.exclusion_surgical = 0\n",
    "  and co.exclusion_nodata = 0\n",
    "  and co.exclusion_dnr = 0\n",
    "order by co.icustay_id\n",
    "\"\"\"\n",
    "\n",
    "# Load the result of the query into a dataframe\n",
    "df = pd.read_sql_query(query, con)\n",
    "print('{} patients and {} features'.format(df.shape[0],df.shape[1]-2))"
   ]
  },
  {
   "cell_type": "markdown",
   "metadata": {},
   "source": [
    "# 3 - Output the data to a csv file"
   ]
  },
  {
   "cell_type": "code",
   "execution_count": null,
   "metadata": {
    "collapsed": true
   },
   "outputs": [],
   "source": [
    "df.to_csv('mimic-iii-gosiss-data.csv',index=False)"
   ]
  }
 ],
 "metadata": {
  "kernelspec": {
   "display_name": "Python 2",
   "language": "python",
   "name": "python2"
  },
  "language_info": {
   "codemirror_mode": {
    "name": "ipython",
    "version": 2
   },
   "file_extension": ".py",
   "mimetype": "text/x-python",
   "name": "python",
   "nbconvert_exporter": "python",
   "pygments_lexer": "ipython2",
   "version": "2.7.12"
  }
 },
 "nbformat": 4,
 "nbformat_minor": 0
}
