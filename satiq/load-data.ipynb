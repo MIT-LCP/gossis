{
 "cells": [
  {
   "cell_type": "markdown",
   "metadata": {},
   "source": [
    "# Load data from SQL, parse it appropriately\n",
    "\n",
    "This script loads the data from a MIMIC-III database and parses the data for concepts required for the GOSSIS project. The script outputs the `mimic-iii-gossis-data.csv` file for later use."
   ]
  },
  {
   "cell_type": "code",
   "execution_count": 1,
   "metadata": {
    "collapsed": true
   },
   "outputs": [],
   "source": [
    "from __future__ import print_function\n",
    "\n",
    "import numpy as np\n",
    "import pandas as pd\n",
    "import os\n",
    "\n",
    "import sqlite3"
   ]
  },
  {
   "cell_type": "markdown",
   "metadata": {},
   "source": [
    "## Connect to database"
   ]
  },
  {
   "cell_type": "code",
   "execution_count": 2,
   "metadata": {
    "collapsed": true
   },
   "outputs": [],
   "source": [
    "con = sqlite3.connect('SATIQ.sqlite')"
   ]
  },
  {
   "cell_type": "code",
   "execution_count": 3,
   "metadata": {
    "collapsed": false
   },
   "outputs": [
    {
     "name": "stdout",
     "output_type": "stream",
     "text": [
      "Loaded data for 579 patients and 198 features.\n"
     ]
    }
   ],
   "source": [
    "df = pd.read_sql_query(\"\"\"\n",
    "select\n",
    "\n",
    "'satiq' as data_source\n",
    ", fva.tipodni || fva.dni || fva.fecing as encounter_id\n",
    ", NULL as hospital_id\n",
    ", fva.tipodni || fva.dni as patient_id\n",
    ", fva.edad as age\n",
    ", fp.imc as bmi\n",
    ", 'argentina' as country\n",
    ", case when fva.patologia = 3 then 1 else 0 end as elective_surgery\n",
    ", NULL as ethnicity\n",
    ", fva.sexo as gender\n",
    ", case when p.altura = 0 then null else p.altura end as height\n",
    ", null as hospital_admit_source\n",
    ", null as hospital_bed_size\n",
    ", case when fva.resultadoegresoh = 'Fallece' then 1 else 0 end as hospital_death\n",
    ", fva.resultadoegresoh as hospital_disch_location\n",
    ", fva.fecegrh - fva.fecingh as hospital_los_days\n",
    ", NULL as hospital_type\n",
    ", fva.PROCEDENCIA as icu_admit_source\n",
    ", fva.PATOLOGIA as icu_admit_type\n",
    ", case when fva.RESTRAT = 5 then 1 else 0 end as icu_death\n",
    ", fva.RESTRAT as icu_disch_location\n",
    ", NULL as icu_id\n",
    ", fva.DIAS as icu_los_days\n",
    ", NULL as icu_stay_type\n",
    ", NULL as icu_type\n",
    ", fva.FECHAING - FECINGH as pre_icu_los_days\n",
    ", NULL as pregnant\n",
    ", fva.REINGRESO as readmission_status\n",
    ", NULL as smoking_status\n",
    ", NULL as teaching_hospital\n",
    ", p.PESO as weight\n",
    ", NULL as albumin_apache\n",
    ", fva.IRA as arf_apache\n",
    ", NULL as bilirubin_apache\n",
    ", fva.NA as bun_apache\n",
    ", fva.CREATIN as creatinine_apache\n",
    ", fva.VALFIO2 as fio2_apache\n",
    ", NULL as gcs_eyes_apache\n",
    ", NULL as gcs_motor_apache\n",
    ", NULL as gcs_unable_apache\n",
    ", NULL as gcs_verbal_apache\n",
    ", NULL as glucose_apache\n",
    ", fva.FRECCARD as heart_rate_apache\n",
    ", fva.HEMATROC as hematocrit_apache\n",
    ", NULL as intubated_apache\n",
    ", fva.TENSART as map_apache\n",
    ", fva.PCO2 as paco2_apache\n",
    ", NULL as paco2_for_ph_apache\n",
    ", fva.PAO2 as pao2_apache\n",
    ", fva.PHART as ph_apache\n",
    ", fva.FRECRESP as resprate_apache\n",
    ", fva.K as sodium_apache\n",
    ", fva.TEMPERATURA as temp_apache\n",
    ", NULL as urineoutput_apache\n",
    ", fva.FRECRESP = 0 as ventilated_apache\n",
    ", fva.LEUCOC as wbc_apache\n",
    ", NULL as d1_diasbp_invasive_max\n",
    ", NULL as d1_diasbp_invasive_min\n",
    ", NULL as d1_diasbp_max\n",
    ", NULL as d1_diasbp_min\n",
    ", NULL as d1_diasbp_noninvasive_max\n",
    ", NULL as d1_diasbp_noninvasive_min\n",
    ", NULL as d1_heartrate_max\n",
    ", NULL as d1_heartrate_min\n",
    ", NULL as d1_mbp_invasive_max\n",
    ", NULL as d1_mbp_invasive_min\n",
    ", NULL as d1_mbp_max\n",
    ", NULL as d1_mbp_min\n",
    ", NULL as d1_mbp_noninvasive_max\n",
    ", NULL as d1_mbp_noninvasive_min\n",
    ", NULL as d1_padias_invasive_max\n",
    ", NULL as d1_padias_invasive_min\n",
    ", NULL as d1_pamean_invasive_max\n",
    ", NULL as d1_pamean_invasive_min\n",
    ", NULL as d1_pasys_invasive_max\n",
    ", NULL as d1_pasys_invasive_min\n",
    ", NULL as d1_resprate_max\n",
    ", NULL as d1_resprate_min\n",
    ", NULL as d1_spo2_max\n",
    ", NULL as d1_spo2_min\n",
    ", NULL as d1_sysbp_invasive_max\n",
    ", NULL as d1_sysbp_invasive_min\n",
    ", NULL as d1_sysbp_max\n",
    ", NULL as d1_sysbp_min\n",
    ", NULL as d1_sysbp_noninvasive_max\n",
    ", NULL as d1_sysbp_noninvasive_min\n",
    ", NULL as d1_temp_max\n",
    ", NULL as d1_temp_min\n",
    ", NULL as h1_diasbp_invasive_max\n",
    ", NULL as h1_diasbp_invasive_min\n",
    ", NULL as h1_diasbp_max\n",
    ", NULL as h1_diasbp_min\n",
    ", NULL as h1_diasbp_noninvasive_max\n",
    ", NULL as h1_diasbp_noninvasive_min\n",
    ", NULL as h1_heartrate_max\n",
    ", NULL as h1_heartrate_min\n",
    ", NULL as h1_mbp_invasive_max\n",
    ", NULL as h1_mbp_invasive_min\n",
    ", NULL as h1_mbp_max\n",
    ", NULL as h1_mbp_min\n",
    ", NULL as h1_mbp_noninvasive_max\n",
    ", NULL as h1_mbp_noninvasive_min\n",
    ", NULL as h1_padias_invasive_max\n",
    ", NULL as h1_padias_invasive_min\n",
    ", NULL as h1_pamean_invasive_max\n",
    ", NULL as h1_pamean_invasive_min\n",
    ", NULL as h1_pasys_invasive_max\n",
    ", NULL as h1_pasys_invasive_min\n",
    ", NULL as h1_resprate_max\n",
    ", NULL as h1_resprate_min\n",
    ", NULL as h1_spo2_max\n",
    ", NULL as h1_spo2_min\n",
    ", NULL as h1_sysbp_invasive_max\n",
    ", NULL as h1_sysbp_invasive_min\n",
    ", NULL as h1_sysbp_max\n",
    ", NULL as h1_sysbp_min\n",
    ", NULL as h1_sysbp_noninvasive_max\n",
    ", NULL as h1_sysbp_noninvasive_min\n",
    ", NULL as h1_temp_max\n",
    ", NULL as h1_temp_min\n",
    ", NULL as d1_albumin_max\n",
    ", NULL as d1_albumin_min\n",
    ", NULL as d1_bilirubin_max\n",
    ", NULL as d1_bilirubin_min\n",
    ", NULL as d1_bun_max\n",
    ", NULL as d1_bun_min\n",
    ", NULL as d1_calcium_max\n",
    ", NULL as d1_calcium_min\n",
    ", NULL as d1_creatinine_max\n",
    ", NULL as d1_creatinine_min\n",
    ", NULL as d1_glucose_max\n",
    ", NULL as d1_glucose_min\n",
    ", NULL as d1_hco3_max\n",
    ", NULL as d1_hco3_min\n",
    ", NULL as d1_hemaglobin_max\n",
    ", NULL as d1_hemaglobin_min\n",
    ", NULL as d1_hematocrit_max\n",
    ", NULL as d1_hematocrit_min\n",
    ", NULL as d1_inr_max\n",
    ", NULL as d1_inr_min\n",
    ", NULL as d1_lactate_max\n",
    ", NULL as d1_lactate_min\n",
    ", NULL as d1_platelets_max\n",
    ", NULL as d1_platelets_min\n",
    ", NULL as d1_potassium_max\n",
    ", NULL as d1_potassium_min\n",
    ", NULL as d1_sodium_max\n",
    ", NULL as d1_sodium_min\n",
    ", NULL as d1_wbc_max\n",
    ", NULL as d1_wbc_min\n",
    ", NULL as h1_albumin_max\n",
    ", NULL as h1_albumin_min\n",
    ", NULL as h1_bilirubin_max\n",
    ", NULL as h1_bilirubin_min\n",
    ", NULL as h1_bun_max\n",
    ", NULL as h1_bun_min\n",
    ", NULL as h1_calcium_max\n",
    ", NULL as h1_calcium_min\n",
    ", NULL as h1_creatinine_max\n",
    ", NULL as h1_creatinine_min\n",
    ", NULL as h1_glucose_max\n",
    ", NULL as h1_glucose_min\n",
    ", NULL as h1_hco3_max\n",
    ", NULL as h1_hco3_min\n",
    ", NULL as h1_hemaglobin_max\n",
    ", NULL as h1_hemaglobin_min\n",
    ", NULL as h1_hematocrit_max\n",
    ", NULL as h1_hematocrit_min\n",
    ", NULL as h1_inr_max\n",
    ", NULL as h1_inr_min\n",
    ", NULL as h1_lactate_max\n",
    ", NULL as h1_lactate_min\n",
    ", NULL as h1_platelets_max\n",
    ", NULL as h1_platelets_min\n",
    ", NULL as h1_potassium_max\n",
    ", NULL as h1_potassium_min\n",
    ", NULL as h1_sodium_max\n",
    ", NULL as h1_sodium_min\n",
    ", NULL as h1_wbc_max\n",
    ", NULL as h1_wbc_min\n",
    ", NULL as d1_arterial_pco2_max\n",
    ", NULL as d1_arterial_pco2_min\n",
    ", NULL as d1_arterial_ph_max\n",
    ", NULL as d1_arterial_ph_min\n",
    ", NULL as d1_arterial_po2_max\n",
    ", NULL as d1_arterial_po2_min\n",
    ", NULL as d1_pao2fio2ratio_max\n",
    ", NULL as d1_pao2fio2ratio_min\n",
    ", NULL as h1_arterial_pco2_max\n",
    ", NULL as h1_arterial_pco2_min\n",
    ", NULL as h1_arterial_ph_max\n",
    ", NULL as h1_arterial_ph_min\n",
    ", NULL as h1_arterial_po2_max\n",
    ", NULL as h1_arterial_po2_min\n",
    ", NULL as h1_pao2fio2ratio_max\n",
    ", NULL as h1_pao2fio2ratio_min\n",
    ", NULL as apache_3j_hospital_death_prob\n",
    ", NULL as apache_3j_score\n",
    ", NULL as apache_4a_hospital_death_prob\n",
    ", NULL as apache_4a_icu_death_prob\n",
    "from fivarapa fva\n",
    "left join fipeso fp\n",
    "on fva.tipodni = fp.tipodni\n",
    "and fva.dni = fp.dni\n",
    "and fva.fecing = fp.fecing\n",
    "left join pacientes p\n",
    "on fva.tipodni = p.dnitipo\n",
    "and fva.dni = p.dni\n",
    "left join FiMotingD fmd\n",
    "on fva.tipodni = fp.tipodni\n",
    "and fva.dni = fp.dni\n",
    "and fva.fecing = fp.fecing\n",
    "\"\"\", con)\n",
    "\n",
    "print('Loaded data for {} patients and {} features.'.format(df.shape[0],df.shape[1]-2))"
   ]
  },
  {
   "cell_type": "markdown",
   "metadata": {},
   "source": [
    "## Load in the header"
   ]
  },
  {
   "cell_type": "code",
   "execution_count": 4,
   "metadata": {
    "collapsed": true
   },
   "outputs": [],
   "source": [
    "hdr = pd.read_csv('../hdr/header.csv',header=None,sep=',')[0].values"
   ]
  },
  {
   "cell_type": "markdown",
   "metadata": {},
   "source": [
    "Map the data into a consistent header which is used for all databases. Warn if data is not found in the current dataset."
   ]
  },
  {
   "cell_type": "code",
   "execution_count": 15,
   "metadata": {
    "collapsed": false
   },
   "outputs": [
    {
     "name": "stdout",
     "output_type": "stream",
     "text": [
      "WARNING: hospital_bed_size_numeric not found in SATIQ data!\n",
      "WARNING: apsiii not found in SATIQ data!\n"
     ]
    }
   ],
   "source": [
    "def encode_text(x):\n",
    "    if x:\n",
    "        return x.encode('utf-8')\n",
    "    else:\n",
    "        return x\n",
    "    \n",
    "\n",
    "df_new = pd.DataFrame()\n",
    "for c in hdr:\n",
    "    # did not find a mapping for the given variable\n",
    "    if c not in df.columns:\n",
    "        print('WARNING: {} not found in SATIQ data!'.format(c))\n",
    "        df_new[c] = None\n",
    "    else:\n",
    "        # call the mapping\n",
    "        if df.dtypes[c] == 'O':\n",
    "            df_new[c] = df[c].map(encode_text)\n",
    "        else:\n",
    "            df_new[c] = df[c]"
   ]
  },
  {
   "cell_type": "markdown",
   "metadata": {},
   "source": [
    "# 3 - Output the data to a csv file"
   ]
  },
  {
   "cell_type": "code",
   "execution_count": 16,
   "metadata": {
    "collapsed": false
   },
   "outputs": [],
   "source": [
    "df_new.to_csv('satiq-gossis-data.csv',index=False)"
   ]
  },
  {
   "cell_type": "code",
   "execution_count": 17,
   "metadata": {
    "collapsed": true
   },
   "outputs": [],
   "source": [
    "con.close()"
   ]
  }
 ],
 "metadata": {
  "kernelspec": {
   "display_name": "Python 2",
   "language": "python",
   "name": "python2"
  },
  "language_info": {
   "codemirror_mode": {
    "name": "ipython",
    "version": 2
   },
   "file_extension": ".py",
   "mimetype": "text/x-python",
   "name": "python",
   "nbconvert_exporter": "python",
   "pygments_lexer": "ipython2",
   "version": "2.7.12"
  }
 },
 "nbformat": 4,
 "nbformat_minor": 1
}
